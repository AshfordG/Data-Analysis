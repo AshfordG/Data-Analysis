{
 "cells": [
  {
   "cell_type": "markdown",
   "metadata": {},
   "source": [
    "# Data Exploration"
   ]
  },
  {
   "cell_type": "code",
   "execution_count": 2,
   "metadata": {},
   "outputs": [
    {
     "name": "stderr",
     "output_type": "stream",
     "text": [
      "/var/folders/5j/d3djc2s11t3fm7573x763wvw0000gr/T/ipykernel_2841/687462750.py:1: DeprecationWarning: \n",
      "Pyarrow will become a required dependency of pandas in the next major release of pandas (pandas 3.0),\n",
      "(to allow more performant data types, such as the Arrow string type, and better interoperability with other libraries)\n",
      "but was not found to be installed on your system.\n",
      "If this would cause problems for you,\n",
      "please provide us feedback at https://github.com/pandas-dev/pandas/issues/54466\n",
      "        \n",
      "  import pandas as pd\n"
     ]
    }
   ],
   "source": [
    "import pandas as pd\n",
    "import matplotlib.pyplot as plt\n",
    "import seaborn as sns"
   ]
  },
  {
   "cell_type": "code",
   "execution_count": 104,
   "metadata": {},
   "outputs": [],
   "source": [
    "# Load dataset \n",
    "df = pd.read_csv(\"data/soccer_leagues.csv\")\n",
    "\n",
    "# https://www.kaggle.com/datasets/oles04/top-leagues-player\n",
    "\n",
    "# 2613 rows * 18 Columns initially"
   ]
  },
  {
   "cell_type": "markdown",
   "metadata": {},
   "source": [
    "# Data Cleaning"
   ]
  },
  {
   "cell_type": "markdown",
   "metadata": {},
   "source": [
    "### Drop Unneccasary Columns"
   ]
  },
  {
   "cell_type": "code",
   "execution_count": 105,
   "metadata": {},
   "outputs": [],
   "source": [
    "# Drop First Column\n",
    "df = df.drop(\"Unnamed: 0\", axis=1)\n",
    "\n",
    "#Drop player_agent column --> not useful for analysis and many null values\n",
    "df = df.drop(\"player_agent\", axis=1)"
   ]
  },
  {
   "cell_type": "code",
   "execution_count": 106,
   "metadata": {},
   "outputs": [
    {
     "data": {
      "text/plain": [
       "Index(['name', 'full_name', 'age', 'height', 'nationality', 'place_of_birth',\n",
       "       'price', 'max_price', 'position', 'shirt_nr', 'foot', 'club',\n",
       "       'contract_expires', 'joined_club', 'player_agent', 'outfitter',\n",
       "       'league'],\n",
       "      dtype='object')"
      ]
     },
     "execution_count": 106,
     "metadata": {},
     "output_type": "execute_result"
    }
   ],
   "source": [
    "df.columns"
   ]
  },
  {
   "cell_type": "markdown",
   "metadata": {},
   "source": [
    "### Checking For Duplicate Players"
   ]
  },
  {
   "cell_type": "code",
   "execution_count": 107,
   "metadata": {},
   "outputs": [
    {
     "data": {
      "text/plain": [
       "0"
      ]
     },
     "execution_count": 107,
     "metadata": {},
     "output_type": "execute_result"
    }
   ],
   "source": [
    "df.duplicated().sum()\n",
    "\n",
    "#List rows that have the same name\n",
    "df.loc[df.duplicated([\"name\"], keep=False)].sort_values([\"name\"])\n",
    "\n",
    "#Drop rows with duplicate names\n",
    "df = df.drop_duplicates([\"name\"], keep=\"first\").reset_index(drop=True)\n",
    "\n",
    "df.duplicated().sum()"
   ]
  },
  {
   "cell_type": "markdown",
   "metadata": {},
   "source": [
    "### Check for Null Values"
   ]
  },
  {
   "cell_type": "code",
   "execution_count": 108,
   "metadata": {},
   "outputs": [
    {
     "data": {
      "text/plain": [
       "name                   0\n",
       "full_name           1129\n",
       "age                    0\n",
       "height                10\n",
       "nationality            0\n",
       "place_of_birth        17\n",
       "price                 10\n",
       "max_price              6\n",
       "position               0\n",
       "shirt_nr               0\n",
       "foot                  35\n",
       "club                   0\n",
       "contract_expires      68\n",
       "joined_club            0\n",
       "player_agent         259\n",
       "outfitter           1605\n",
       "league                 0\n",
       "dtype: int64"
      ]
     },
     "execution_count": 108,
     "metadata": {},
     "output_type": "execute_result"
    }
   ],
   "source": [
    "# Count null values in each column \n",
    "df.isna().sum()\n"
   ]
  },
  {
   "cell_type": "code",
   "execution_count": 109,
   "metadata": {},
   "outputs": [],
   "source": [
    "#Drop all rows with any null values for the following columns\n",
    "df = df.dropna(subset=['height', 'contract_expires', 'price', 'foot'])\n",
    "\n",
    "#Fill the Na values in the full_name column\n",
    "df[\"full_name\"] = df[\"full_name\"].fillna(df[\"name\"])\n",
    "\n",
    "# Turn the \"Other\" values in league into Null\n",
    "def remove_other(word):\n",
    "    if word == \"Other\":\n",
    "        return None\n",
    "    return word\n",
    "\n",
    "df[\"league\"] = df[\"league\"].apply(remove_other)"
   ]
  },
  {
   "cell_type": "markdown",
   "metadata": {},
   "source": [
    "### Rename Data"
   ]
  },
  {
   "cell_type": "code",
   "execution_count": null,
   "metadata": {},
   "outputs": [],
   "source": [
    "# Shorten position titles\n",
    "df['position'] = df['position'].replace({'Defender - Centre-Back': 'CB', 'midfield - Central Midfield': 'CM', 'Attack - Centre-Forward': 'S', 'Goalkeeper': 'GK', 'Defender - Right-Back': 'RB', 'Defender - Left-Back': 'LB', 'midfield - Defensive Midfield': 'CDM', 'Attack - Left Winger': 'LW', 'midfield - Attacking Midfield': 'CAM', 'Attack - Right Winger': 'RW', 'midfield - Right Midfield': 'RM', 'midfield - Left Midfield': 'LM', 'Attack - Second Striker': 'S', 'midfield': \"CM\"})"
   ]
  },
  {
   "cell_type": "code",
   "execution_count": 169,
   "metadata": {},
   "outputs": [],
   "source": [
    "# def meters_to_feet(height):\n",
    "#     return height * 3.28084\n",
    "\n",
    "# df['height'].map(meters_to_feet)\n",
    "\n",
    "# df.columns\n",
    "# df.loc[df.duplicated([\"name\"], keep=False)].sort_values([\"name\"])"
   ]
  },
  {
   "cell_type": "markdown",
   "metadata": {},
   "source": [
    "# Exploratory Data Analysis"
   ]
  },
  {
   "cell_type": "code",
   "execution_count": 163,
   "metadata": {},
   "outputs": [
    {
     "data": {
      "text/html": [
       "<div>\n",
       "<style scoped>\n",
       "    .dataframe tbody tr th:only-of-type {\n",
       "        vertical-align: middle;\n",
       "    }\n",
       "\n",
       "    .dataframe tbody tr th {\n",
       "        vertical-align: top;\n",
       "    }\n",
       "\n",
       "    .dataframe thead th {\n",
       "        text-align: right;\n",
       "    }\n",
       "</style>\n",
       "<table border=\"1\" class=\"dataframe\">\n",
       "  <thead>\n",
       "    <tr style=\"text-align: right;\">\n",
       "      <th></th>\n",
       "      <th>age</th>\n",
       "      <th>height</th>\n",
       "      <th>price</th>\n",
       "      <th>max_price</th>\n",
       "      <th>shirt_nr</th>\n",
       "    </tr>\n",
       "  </thead>\n",
       "  <tbody>\n",
       "    <tr>\n",
       "      <th>count</th>\n",
       "      <td>2494.000000</td>\n",
       "      <td>2494.000000</td>\n",
       "      <td>2494.000000</td>\n",
       "      <td>2494.000000</td>\n",
       "      <td>2494.000000</td>\n",
       "    </tr>\n",
       "    <tr>\n",
       "      <th>mean</th>\n",
       "      <td>26.442261</td>\n",
       "      <td>1.830325</td>\n",
       "      <td>10.907518</td>\n",
       "      <td>17.769868</td>\n",
       "      <td>20.185646</td>\n",
       "    </tr>\n",
       "    <tr>\n",
       "      <th>std</th>\n",
       "      <td>4.599970</td>\n",
       "      <td>0.067367</td>\n",
       "      <td>15.919835</td>\n",
       "      <td>22.172345</td>\n",
       "      <td>17.794263</td>\n",
       "    </tr>\n",
       "    <tr>\n",
       "      <th>min</th>\n",
       "      <td>17.000000</td>\n",
       "      <td>1.630000</td>\n",
       "      <td>0.025000</td>\n",
       "      <td>0.025000</td>\n",
       "      <td>1.000000</td>\n",
       "    </tr>\n",
       "    <tr>\n",
       "      <th>25%</th>\n",
       "      <td>23.000000</td>\n",
       "      <td>1.780000</td>\n",
       "      <td>2.000000</td>\n",
       "      <td>3.500000</td>\n",
       "      <td>8.000000</td>\n",
       "    </tr>\n",
       "    <tr>\n",
       "      <th>50%</th>\n",
       "      <td>26.000000</td>\n",
       "      <td>1.830000</td>\n",
       "      <td>5.000000</td>\n",
       "      <td>10.000000</td>\n",
       "      <td>17.000000</td>\n",
       "    </tr>\n",
       "    <tr>\n",
       "      <th>75%</th>\n",
       "      <td>30.000000</td>\n",
       "      <td>1.880000</td>\n",
       "      <td>14.000000</td>\n",
       "      <td>24.000000</td>\n",
       "      <td>26.000000</td>\n",
       "    </tr>\n",
       "    <tr>\n",
       "      <th>max</th>\n",
       "      <td>42.000000</td>\n",
       "      <td>2.060000</td>\n",
       "      <td>180.000000</td>\n",
       "      <td>200.000000</td>\n",
       "      <td>99.000000</td>\n",
       "    </tr>\n",
       "  </tbody>\n",
       "</table>\n",
       "</div>"
      ],
      "text/plain": [
       "               age       height        price    max_price     shirt_nr\n",
       "count  2494.000000  2494.000000  2494.000000  2494.000000  2494.000000\n",
       "mean     26.442261     1.830325    10.907518    17.769868    20.185646\n",
       "std       4.599970     0.067367    15.919835    22.172345    17.794263\n",
       "min      17.000000     1.630000     0.025000     0.025000     1.000000\n",
       "25%      23.000000     1.780000     2.000000     3.500000     8.000000\n",
       "50%      26.000000     1.830000     5.000000    10.000000    17.000000\n",
       "75%      30.000000     1.880000    14.000000    24.000000    26.000000\n",
       "max      42.000000     2.060000   180.000000   200.000000    99.000000"
      ]
     },
     "execution_count": 163,
     "metadata": {},
     "output_type": "execute_result"
    }
   ],
   "source": [
    "df.shape # 2494 rows X 16 columns\n",
    "df.describe()"
   ]
  },
  {
   "cell_type": "code",
   "execution_count": 275,
   "metadata": {},
   "outputs": [
    {
     "data": {
      "text/html": [
       "<div>\n",
       "<style scoped>\n",
       "    .dataframe tbody tr th:only-of-type {\n",
       "        vertical-align: middle;\n",
       "    }\n",
       "\n",
       "    .dataframe tbody tr th {\n",
       "        vertical-align: top;\n",
       "    }\n",
       "\n",
       "    .dataframe thead th {\n",
       "        text-align: right;\n",
       "    }\n",
       "</style>\n",
       "<table border=\"1\" class=\"dataframe\">\n",
       "  <thead>\n",
       "    <tr style=\"text-align: right;\">\n",
       "      <th></th>\n",
       "      <th>name</th>\n",
       "      <th>full_name</th>\n",
       "      <th>age</th>\n",
       "      <th>height</th>\n",
       "      <th>nationality</th>\n",
       "      <th>place_of_birth</th>\n",
       "      <th>price</th>\n",
       "      <th>max_price</th>\n",
       "      <th>position</th>\n",
       "      <th>shirt_nr</th>\n",
       "      <th>foot</th>\n",
       "      <th>club</th>\n",
       "      <th>contract_expires</th>\n",
       "      <th>joined_club</th>\n",
       "      <th>outfitter</th>\n",
       "      <th>league</th>\n",
       "    </tr>\n",
       "  </thead>\n",
       "  <tbody>\n",
       "    <tr>\n",
       "      <th>2113</th>\n",
       "      <td>Kylian Mbappé</td>\n",
       "      <td>Kylian Mbappé Lottin</td>\n",
       "      <td>24</td>\n",
       "      <td>1.78</td>\n",
       "      <td>France  Cameroon</td>\n",
       "      <td>Bondy</td>\n",
       "      <td>180.0</td>\n",
       "      <td>200.0</td>\n",
       "      <td>S</td>\n",
       "      <td>7</td>\n",
       "      <td>right</td>\n",
       "      <td>Paris SG</td>\n",
       "      <td>2025-06-30</td>\n",
       "      <td>2018-07-01</td>\n",
       "      <td>Nike</td>\n",
       "      <td>Ligue1</td>\n",
       "    </tr>\n",
       "  </tbody>\n",
       "</table>\n",
       "</div>"
      ],
      "text/plain": [
       "               name             full_name  age  height       nationality  \\\n",
       "2113  Kylian Mbappé  Kylian Mbappé Lottin   24    1.78  France  Cameroon   \n",
       "\n",
       "     place_of_birth  price  max_price position  shirt_nr   foot      club  \\\n",
       "2113          Bondy  180.0      200.0        S         7  right  Paris SG   \n",
       "\n",
       "     contract_expires joined_club outfitter  league  \n",
       "2113       2025-06-30  2018-07-01      Nike  Ligue1  "
      ]
     },
     "execution_count": 275,
     "metadata": {},
     "output_type": "execute_result"
    }
   ],
   "source": [
    "df.loc[df[\"price\"] == df[\"price\"].max()]"
   ]
  },
  {
   "cell_type": "code",
   "execution_count": 276,
   "metadata": {},
   "outputs": [
    {
     "data": {
      "text/html": [
       "<div>\n",
       "<style scoped>\n",
       "    .dataframe tbody tr th:only-of-type {\n",
       "        vertical-align: middle;\n",
       "    }\n",
       "\n",
       "    .dataframe tbody tr th {\n",
       "        vertical-align: top;\n",
       "    }\n",
       "\n",
       "    .dataframe thead th {\n",
       "        text-align: right;\n",
       "    }\n",
       "</style>\n",
       "<table border=\"1\" class=\"dataframe\">\n",
       "  <thead>\n",
       "    <tr style=\"text-align: right;\">\n",
       "      <th></th>\n",
       "      <th>name</th>\n",
       "      <th>full_name</th>\n",
       "      <th>age</th>\n",
       "      <th>height</th>\n",
       "      <th>nationality</th>\n",
       "      <th>place_of_birth</th>\n",
       "      <th>price</th>\n",
       "      <th>max_price</th>\n",
       "      <th>position</th>\n",
       "      <th>shirt_nr</th>\n",
       "      <th>foot</th>\n",
       "      <th>club</th>\n",
       "      <th>contract_expires</th>\n",
       "      <th>joined_club</th>\n",
       "      <th>outfitter</th>\n",
       "      <th>league</th>\n",
       "    </tr>\n",
       "  </thead>\n",
       "  <tbody>\n",
       "    <tr>\n",
       "      <th>904</th>\n",
       "      <td>Matthias Köbbing</td>\n",
       "      <td>Matthias Köbbing</td>\n",
       "      <td>25</td>\n",
       "      <td>1.96</td>\n",
       "      <td>Germany</td>\n",
       "      <td>Koblenz</td>\n",
       "      <td>0.025</td>\n",
       "      <td>0.100</td>\n",
       "      <td>GK</td>\n",
       "      <td>44</td>\n",
       "      <td>both</td>\n",
       "      <td>1.FC Köln</td>\n",
       "      <td>2025-06-30</td>\n",
       "      <td>2022-03-08</td>\n",
       "      <td>NaN</td>\n",
       "      <td>Bundesliga</td>\n",
       "    </tr>\n",
       "    <tr>\n",
       "      <th>1290</th>\n",
       "      <td>Matteo Fiorenza</td>\n",
       "      <td>Matteo Fiorenza</td>\n",
       "      <td>19</td>\n",
       "      <td>1.95</td>\n",
       "      <td>Italy</td>\n",
       "      <td>NaN</td>\n",
       "      <td>0.025</td>\n",
       "      <td>0.025</td>\n",
       "      <td>GK</td>\n",
       "      <td>73</td>\n",
       "      <td>right</td>\n",
       "      <td>Torino</td>\n",
       "      <td>2026-06-30</td>\n",
       "      <td>2022-07-01</td>\n",
       "      <td>NaN</td>\n",
       "      <td>SerieA</td>\n",
       "    </tr>\n",
       "  </tbody>\n",
       "</table>\n",
       "</div>"
      ],
      "text/plain": [
       "                  name         full_name  age  height nationality  \\\n",
       "904   Matthias Köbbing  Matthias Köbbing   25    1.96     Germany   \n",
       "1290   Matteo Fiorenza   Matteo Fiorenza   19    1.95       Italy   \n",
       "\n",
       "     place_of_birth  price  max_price position  shirt_nr   foot       club  \\\n",
       "904         Koblenz  0.025      0.100       GK        44   both  1.FC Köln   \n",
       "1290            NaN  0.025      0.025       GK        73  right     Torino   \n",
       "\n",
       "     contract_expires joined_club outfitter      league  \n",
       "904        2025-06-30  2022-03-08       NaN  Bundesliga  \n",
       "1290       2026-06-30  2022-07-01       NaN      SerieA  "
      ]
     },
     "execution_count": 276,
     "metadata": {},
     "output_type": "execute_result"
    }
   ],
   "source": [
    "df.loc[df[\"price\"] == df[\"price\"].min()]"
   ]
  },
  {
   "cell_type": "code",
   "execution_count": 204,
   "metadata": {},
   "outputs": [
    {
     "data": {
      "text/plain": [
       "<Axes: title={'center': 'Price in Millions'}, xlabel='price'>"
      ]
     },
     "execution_count": 204,
     "metadata": {},
     "output_type": "execute_result"
    },
    {
     "data": {
      "image/png": "[encoded data removed]",
      "text/plain": [
       "<Figure size 640x480 with 1 Axes>"
      ]
     },
     "metadata": {},
     "output_type": "display_data"
    }
   ],
   "source": [
    "# Boxplot of player prirces\n",
    "plt.title(\"Price in Millions\")\n",
    "sns.boxplot(data=df, x=\"price\")"
   ]
  },
  {
   "cell_type": "code",
   "execution_count": 255,
   "metadata": {},
   "outputs": [
    {
     "data": {
      "text/plain": [
       "<Axes: xlabel='price', ylabel='Count'>"
      ]
     },
     "execution_count": 255,
     "metadata": {},
     "output_type": "execute_result"
    },
    {
     "data": {
      "image/png": "[encoded data removed]",
      "text/plain": [
       "<Figure size 640x480 with 1 Axes>"
      ]
     },
     "metadata": {},
     "output_type": "display_data"
    }
   ],
   "source": [
    "\n",
    "sns.histplot(data=df, x=\"price\", binwidth=5)"
   ]
  },
  {
   "cell_type": "code",
   "execution_count": 202,
   "metadata": {},
   "outputs": [
    {
     "data": {
      "text/plain": [
       "<Axes: xlabel='league', ylabel='Count'>"
      ]
     },
     "execution_count": 202,
     "metadata": {},
     "output_type": "execute_result"
    },
    {
     "data": {
      "image/png": "[encoded data removed]",
      "text/plain": [
       "<Figure size 800x500 with 1 Axes>"
      ]
     },
     "metadata": {},
     "output_type": "display_data"
    }
   ],
   "source": [
    "plt.figure(figsize=(8, 5))\n",
    "sns.histplot(data=df, x=\"league\")"
   ]
  },
  {
   "cell_type": "code",
   "execution_count": 205,
   "metadata": {},
   "outputs": [
    {
     "data": {
      "text/plain": [
       "<Axes: xlabel='age'>"
      ]
     },
     "execution_count": 205,
     "metadata": {},
     "output_type": "execute_result"
    },
    {
     "data": {
      "image/png": "[encoded data removed]",
      "text/plain": [
       "<Figure size 1000x300 with 1 Axes>"
      ]
     },
     "metadata": {},
     "output_type": "display_data"
    }
   ],
   "source": [
    "plt.figure(figsize=(10, 3))\n",
    "sns.boxplot(data=df, x=\"age\")"
   ]
  },
  {
   "cell_type": "code",
   "execution_count": 224,
   "metadata": {},
   "outputs": [
    {
     "data": {
      "text/plain": [
       "outfitter\n",
       "Nike            418\n",
       "adidas          358\n",
       "Puma            159\n",
       "New Balance      11\n",
       "Under Armour      9\n",
       "Uhlsport          4\n",
       "Mizuno            3\n",
       "Lotto             3\n",
       "Joma              2\n",
       "Umbro             1\n",
       "AB1               1\n",
       "Sells             1\n",
       "HashtagOne        1\n",
       "Stanno            1\n",
       "Name: count, dtype: int64"
      ]
     },
     "execution_count": 224,
     "metadata": {},
     "output_type": "execute_result"
    }
   ],
   "source": [
    "df['nationality'].value_counts()  # 419 Unique combinations of nationality's\n",
    "df['club'].value_counts() # 113 unique clubs\n",
    "df['outfitter'].value_counts() # 14 outfitters\n"
   ]
  },
  {
   "cell_type": "code",
   "execution_count": 222,
   "metadata": {},
   "outputs": [
    {
     "data": {
      "text/plain": [
       "<Axes: xlabel='position', ylabel='Count'>"
      ]
     },
     "execution_count": 222,
     "metadata": {},
     "output_type": "execute_result"
    },
    {
     "data": {
      "image/png": "[encoded data removed]",
      "text/plain": [
       "<Figure size 800x500 with 1 Axes>"
      ]
     },
     "metadata": {},
     "output_type": "display_data"
    }
   ],
   "source": [
    "plt.figure(figsize=(8, 5))\n",
    "sns.histplot(data=df, x=\"position\")"
   ]
  },
  {
   "cell_type": "code",
   "execution_count": 226,
   "metadata": {},
   "outputs": [
    {
     "data": {
      "text/html": [
       "<div>\n",
       "<style scoped>\n",
       "    .dataframe tbody tr th:only-of-type {\n",
       "        vertical-align: middle;\n",
       "    }\n",
       "\n",
       "    .dataframe tbody tr th {\n",
       "        vertical-align: top;\n",
       "    }\n",
       "\n",
       "    .dataframe thead th {\n",
       "        text-align: right;\n",
       "    }\n",
       "</style>\n",
       "<table border=\"1\" class=\"dataframe\">\n",
       "  <thead>\n",
       "    <tr style=\"text-align: right;\">\n",
       "      <th></th>\n",
       "      <th>name</th>\n",
       "      <th>full_name</th>\n",
       "      <th>age</th>\n",
       "      <th>height</th>\n",
       "      <th>nationality</th>\n",
       "      <th>place_of_birth</th>\n",
       "      <th>price</th>\n",
       "      <th>max_price</th>\n",
       "      <th>position</th>\n",
       "      <th>shirt_nr</th>\n",
       "      <th>foot</th>\n",
       "      <th>club</th>\n",
       "      <th>contract_expires</th>\n",
       "      <th>joined_club</th>\n",
       "      <th>outfitter</th>\n",
       "      <th>league</th>\n",
       "    </tr>\n",
       "  </thead>\n",
       "  <tbody>\n",
       "    <tr>\n",
       "      <th>0</th>\n",
       "      <td>Ederson</td>\n",
       "      <td>Ederson</td>\n",
       "      <td>29</td>\n",
       "      <td>1.88</td>\n",
       "      <td>Brazil  Portugal</td>\n",
       "      <td>Osasco (SP)</td>\n",
       "      <td>45.00</td>\n",
       "      <td>70.00</td>\n",
       "      <td>GK</td>\n",
       "      <td>31</td>\n",
       "      <td>left</td>\n",
       "      <td>Man City</td>\n",
       "      <td>2026-06-30</td>\n",
       "      <td>2017-07-01</td>\n",
       "      <td>Puma</td>\n",
       "      <td>EPL</td>\n",
       "    </tr>\n",
       "    <tr>\n",
       "      <th>1</th>\n",
       "      <td>Stefan Ortega</td>\n",
       "      <td>Stefan Ortega Moreno</td>\n",
       "      <td>30</td>\n",
       "      <td>1.85</td>\n",
       "      <td>Germany  Spain</td>\n",
       "      <td>Hofgeismar</td>\n",
       "      <td>6.00</td>\n",
       "      <td>6.00</td>\n",
       "      <td>GK</td>\n",
       "      <td>18</td>\n",
       "      <td>right</td>\n",
       "      <td>Man City</td>\n",
       "      <td>2025-06-30</td>\n",
       "      <td>2022-07-01</td>\n",
       "      <td>NaN</td>\n",
       "      <td>EPL</td>\n",
       "    </tr>\n",
       "    <tr>\n",
       "      <th>2</th>\n",
       "      <td>Scott Carson</td>\n",
       "      <td>Scott Paul Carson</td>\n",
       "      <td>37</td>\n",
       "      <td>1.88</td>\n",
       "      <td>England</td>\n",
       "      <td>Whitehaven</td>\n",
       "      <td>0.25</td>\n",
       "      <td>6.00</td>\n",
       "      <td>GK</td>\n",
       "      <td>33</td>\n",
       "      <td>right</td>\n",
       "      <td>Man City</td>\n",
       "      <td>2023-06-30</td>\n",
       "      <td>2021-07-20</td>\n",
       "      <td>Puma</td>\n",
       "      <td>EPL</td>\n",
       "    </tr>\n",
       "    <tr>\n",
       "      <th>3</th>\n",
       "      <td>Rúben Dias</td>\n",
       "      <td>Rúben Santos Gato Alves Dias</td>\n",
       "      <td>26</td>\n",
       "      <td>1.87</td>\n",
       "      <td>Portugal</td>\n",
       "      <td>Amadora</td>\n",
       "      <td>75.00</td>\n",
       "      <td>75.00</td>\n",
       "      <td>CB</td>\n",
       "      <td>3</td>\n",
       "      <td>right</td>\n",
       "      <td>Man City</td>\n",
       "      <td>2027-06-30</td>\n",
       "      <td>2020-09-29</td>\n",
       "      <td>Nike</td>\n",
       "      <td>EPL</td>\n",
       "    </tr>\n",
       "    <tr>\n",
       "      <th>4</th>\n",
       "      <td>Nathan Aké</td>\n",
       "      <td>Nathan Benjamin Aké</td>\n",
       "      <td>28</td>\n",
       "      <td>1.80</td>\n",
       "      <td>Netherlands  Cote d'Ivoire</td>\n",
       "      <td>Den Haag</td>\n",
       "      <td>35.00</td>\n",
       "      <td>40.00</td>\n",
       "      <td>CB</td>\n",
       "      <td>6</td>\n",
       "      <td>left</td>\n",
       "      <td>Man City</td>\n",
       "      <td>2025-06-30</td>\n",
       "      <td>2020-08-05</td>\n",
       "      <td>Nike</td>\n",
       "      <td>EPL</td>\n",
       "    </tr>\n",
       "    <tr>\n",
       "      <th>...</th>\n",
       "      <td>...</td>\n",
       "      <td>...</td>\n",
       "      <td>...</td>\n",
       "      <td>...</td>\n",
       "      <td>...</td>\n",
       "      <td>...</td>\n",
       "      <td>...</td>\n",
       "      <td>...</td>\n",
       "      <td>...</td>\n",
       "      <td>...</td>\n",
       "      <td>...</td>\n",
       "      <td>...</td>\n",
       "      <td>...</td>\n",
       "      <td>...</td>\n",
       "      <td>...</td>\n",
       "      <td>...</td>\n",
       "    </tr>\n",
       "    <tr>\n",
       "      <th>2601</th>\n",
       "      <td>Ruan Levine</td>\n",
       "      <td>Ruan Levine</td>\n",
       "      <td>24</td>\n",
       "      <td>1.77</td>\n",
       "      <td>Brazil</td>\n",
       "      <td>NaN</td>\n",
       "      <td>0.10</td>\n",
       "      <td>0.10</td>\n",
       "      <td>RW</td>\n",
       "      <td>24</td>\n",
       "      <td>right</td>\n",
       "      <td>AC Ajaccio</td>\n",
       "      <td>2023-06-30</td>\n",
       "      <td>2022-09-20</td>\n",
       "      <td>NaN</td>\n",
       "      <td>None</td>\n",
       "    </tr>\n",
       "    <tr>\n",
       "      <th>2602</th>\n",
       "      <td>Moussa Djitté</td>\n",
       "      <td>Moussa Kalilou Djitté</td>\n",
       "      <td>23</td>\n",
       "      <td>1.80</td>\n",
       "      <td>Senegal</td>\n",
       "      <td>Diattouma</td>\n",
       "      <td>2.00</td>\n",
       "      <td>2.00</td>\n",
       "      <td>S</td>\n",
       "      <td>28</td>\n",
       "      <td>right</td>\n",
       "      <td>AC Ajaccio</td>\n",
       "      <td>2023-06-30</td>\n",
       "      <td>2023-01-31</td>\n",
       "      <td>NaN</td>\n",
       "      <td>None</td>\n",
       "    </tr>\n",
       "    <tr>\n",
       "      <th>2603</th>\n",
       "      <td>Mounaïm El Idrissy</td>\n",
       "      <td>منعم الإدريسي</td>\n",
       "      <td>24</td>\n",
       "      <td>1.81</td>\n",
       "      <td>France  Morocco</td>\n",
       "      <td>Martigues</td>\n",
       "      <td>1.80</td>\n",
       "      <td>1.80</td>\n",
       "      <td>S</td>\n",
       "      <td>7</td>\n",
       "      <td>right</td>\n",
       "      <td>AC Ajaccio</td>\n",
       "      <td>2023-06-30</td>\n",
       "      <td>2019-07-01</td>\n",
       "      <td>NaN</td>\n",
       "      <td>None</td>\n",
       "    </tr>\n",
       "    <tr>\n",
       "      <th>2605</th>\n",
       "      <td>Romain Hamouma</td>\n",
       "      <td>Romain Hamouma</td>\n",
       "      <td>36</td>\n",
       "      <td>1.79</td>\n",
       "      <td>France  Algeria</td>\n",
       "      <td>Montbéliard</td>\n",
       "      <td>0.60</td>\n",
       "      <td>7.00</td>\n",
       "      <td>S</td>\n",
       "      <td>17</td>\n",
       "      <td>right</td>\n",
       "      <td>AC Ajaccio</td>\n",
       "      <td>2023-06-30</td>\n",
       "      <td>2022-07-01</td>\n",
       "      <td>NaN</td>\n",
       "      <td>None</td>\n",
       "    </tr>\n",
       "    <tr>\n",
       "      <th>2606</th>\n",
       "      <td>Yoann Touzghar</td>\n",
       "      <td>Yoann Touzghar</td>\n",
       "      <td>36</td>\n",
       "      <td>1.80</td>\n",
       "      <td>Tunisia  France</td>\n",
       "      <td>Avignon</td>\n",
       "      <td>0.50</td>\n",
       "      <td>1.75</td>\n",
       "      <td>S</td>\n",
       "      <td>9</td>\n",
       "      <td>right</td>\n",
       "      <td>AC Ajaccio</td>\n",
       "      <td>2024-06-30</td>\n",
       "      <td>2022-08-24</td>\n",
       "      <td>NaN</td>\n",
       "      <td>None</td>\n",
       "    </tr>\n",
       "  </tbody>\n",
       "</table>\n",
       "<p>2494 rows × 16 columns</p>\n",
       "</div>"
      ],
      "text/plain": [
       "                    name                     full_name  age  height  \\\n",
       "0                Ederson                       Ederson   29    1.88   \n",
       "1          Stefan Ortega          Stefan Ortega Moreno   30    1.85   \n",
       "2           Scott Carson             Scott Paul Carson   37    1.88   \n",
       "3             Rúben Dias  Rúben Santos Gato Alves Dias   26    1.87   \n",
       "4             Nathan Aké           Nathan Benjamin Aké   28    1.80   \n",
       "...                  ...                           ...  ...     ...   \n",
       "2601         Ruan Levine                   Ruan Levine   24    1.77   \n",
       "2602       Moussa Djitté         Moussa Kalilou Djitté   23    1.80   \n",
       "2603  Mounaïm El Idrissy                 منعم الإدريسي   24    1.81   \n",
       "2605      Romain Hamouma                Romain Hamouma   36    1.79   \n",
       "2606      Yoann Touzghar                Yoann Touzghar   36    1.80   \n",
       "\n",
       "                     nationality place_of_birth  price  max_price position  \\\n",
       "0               Brazil  Portugal    Osasco (SP)  45.00      70.00       GK   \n",
       "1                 Germany  Spain     Hofgeismar   6.00       6.00       GK   \n",
       "2                        England     Whitehaven   0.25       6.00       GK   \n",
       "3                       Portugal        Amadora  75.00      75.00       CB   \n",
       "4     Netherlands  Cote d'Ivoire       Den Haag  35.00      40.00       CB   \n",
       "...                          ...            ...    ...        ...      ...   \n",
       "2601                      Brazil            NaN   0.10       0.10       RW   \n",
       "2602                     Senegal      Diattouma   2.00       2.00        S   \n",
       "2603             France  Morocco      Martigues   1.80       1.80        S   \n",
       "2605             France  Algeria    Montbéliard   0.60       7.00        S   \n",
       "2606             Tunisia  France        Avignon   0.50       1.75        S   \n",
       "\n",
       "      shirt_nr   foot        club contract_expires joined_club outfitter  \\\n",
       "0           31   left    Man City       2026-06-30  2017-07-01      Puma   \n",
       "1           18  right    Man City       2025-06-30  2022-07-01       NaN   \n",
       "2           33  right    Man City       2023-06-30  2021-07-20      Puma   \n",
       "3            3  right    Man City       2027-06-30  2020-09-29      Nike   \n",
       "4            6   left    Man City       2025-06-30  2020-08-05      Nike   \n",
       "...        ...    ...         ...              ...         ...       ...   \n",
       "2601        24  right  AC Ajaccio       2023-06-30  2022-09-20       NaN   \n",
       "2602        28  right  AC Ajaccio       2023-06-30  2023-01-31       NaN   \n",
       "2603         7  right  AC Ajaccio       2023-06-30  2019-07-01       NaN   \n",
       "2605        17  right  AC Ajaccio       2023-06-30  2022-07-01       NaN   \n",
       "2606         9  right  AC Ajaccio       2024-06-30  2022-08-24       NaN   \n",
       "\n",
       "     league  \n",
       "0       EPL  \n",
       "1       EPL  \n",
       "2       EPL  \n",
       "3       EPL  \n",
       "4       EPL  \n",
       "...     ...  \n",
       "2601   None  \n",
       "2602   None  \n",
       "2603   None  \n",
       "2605   None  \n",
       "2606   None  \n",
       "\n",
       "[2494 rows x 16 columns]"
      ]
     },
     "execution_count": 226,
     "metadata": {},
     "output_type": "execute_result"
    }
   ],
   "source": [
    "df"
   ]
  },
  {
   "cell_type": "markdown",
   "metadata": {},
   "source": [
    "# Statistical Analysis"
   ]
  },
  {
   "cell_type": "markdown",
   "metadata": {},
   "source": [
    "### What league has the highest average salary for its players?"
   ]
  },
  {
   "cell_type": "code",
   "execution_count": 245,
   "metadata": {},
   "outputs": [
    {
     "data": {
      "text/plain": [
       "<Axes: title={'center': 'Current Player Price (Millions) vs League'}, xlabel='league', ylabel='price'>"
      ]
     },
     "execution_count": 245,
     "metadata": {},
     "output_type": "execute_result"
    },
    {
     "data": {
      "image/png": "[encoded data removed]",
      "text/plain": [
       "<Figure size 640x480 with 1 Axes>"
      ]
     },
     "metadata": {},
     "output_type": "display_data"
    }
   ],
   "source": [
    "plt.title(\"Current Player Price (Millions) vs League\")\n",
    "\n",
    "sns.barplot(df, x=\"league\", y=\"price\", hue='league', legend=False)"
   ]
  },
  {
   "cell_type": "code",
   "execution_count": 246,
   "metadata": {},
   "outputs": [
    {
     "name": "stdout",
     "output_type": "stream",
     "text": [
      "EPL: 21.323744292237443\n",
      "Bundesliga: 9.153336980306348\n",
      "Seria A: 9.779899135446685\n",
      "LaLiga: 9.81221052631579\n",
      "Ligue1: 8.20024154589372\n"
     ]
    }
   ],
   "source": [
    "print(\"EPL: \" + str(df['price'].loc[df['league'] == 'EPL'].mean()))\n",
    "print(\"Bundesliga: \" + str(df['price'].loc[df['league'] == 'Bundesliga'].mean()))\n",
    "print(\"Seria A: \" + str(df['price'].loc[df['league'] == 'SerieA'].mean()))\n",
    "print(\"LaLiga: \" + str(df['price'].loc[df['league'] == 'LaLiga'].mean()))\n",
    "print(\"Ligue1: \" + str(df['price'].loc[df['league'] == 'Ligue1'].mean()))\n",
    "\n"
   ]
  },
  {
   "cell_type": "code",
   "execution_count": 248,
   "metadata": {},
   "outputs": [
    {
     "data": {
      "text/plain": [
       "<Axes: title={'center': 'MAX Player Price (Millions) vs League'}, xlabel='league', ylabel='max_price'>"
      ]
     },
     "execution_count": 248,
     "metadata": {},
     "output_type": "execute_result"
    },
    {
     "data": {
      "image/png": "[encoded data removed]",
      "text/plain": [
       "<Figure size 640x480 with 1 Axes>"
      ]
     },
     "metadata": {},
     "output_type": "display_data"
    }
   ],
   "source": [
    "plt.title(\"MAX Player Price (Millions) vs League\")\n",
    "\n",
    "sns.barplot(df, x=\"league\", y=\"max_price\", hue='league', legend=False)"
   ]
  },
  {
   "cell_type": "code",
   "execution_count": 249,
   "metadata": {},
   "outputs": [
    {
     "name": "stdout",
     "output_type": "stream",
     "text": [
      "EPL: 31.82956621004566\n",
      "Bundesliga: 14.638074398249454\n",
      "Seria A: 17.736743515850144\n",
      "LaLiga: 18.493157894736843\n",
      "Ligue1: 12.948792270531401\n"
     ]
    }
   ],
   "source": [
    "print(\"EPL: \" + str(df['max_price'].loc[df['league'] == 'EPL'].mean()))\n",
    "print(\"Bundesliga: \" + str(df['max_price'].loc[df['league'] == 'Bundesliga'].mean()))\n",
    "print(\"Seria A: \" + str(df['max_price'].loc[df['league'] == 'SerieA'].mean()))\n",
    "print(\"LaLiga: \" + str(df['max_price'].loc[df['league'] == 'LaLiga'].mean()))\n",
    "print(\"Ligue1: \" + str(df['max_price'].loc[df['league'] == 'Ligue1'].mean()))"
   ]
  },
  {
   "cell_type": "markdown",
   "metadata": {},
   "source": [
    "### How does a players age relate to their salary?"
   ]
  },
  {
   "cell_type": "code",
   "execution_count": 259,
   "metadata": {},
   "outputs": [
    {
     "data": {
      "text/plain": [
       "<Axes: xlabel='age'>"
      ]
     },
     "execution_count": 259,
     "metadata": {},
     "output_type": "execute_result"
    },
    {
     "data": {
      "image/png": "[encoded data removed]",
      "text/plain": [
       "<Figure size 1000x300 with 1 Axes>"
      ]
     },
     "metadata": {},
     "output_type": "display_data"
    }
   ],
   "source": [
    "plt.figure(figsize=(10, 3))\n",
    "sns.boxplot(data=df, x=\"age\")"
   ]
  },
  {
   "cell_type": "code",
   "execution_count": 260,
   "metadata": {},
   "outputs": [
    {
     "data": {
      "text/plain": [
       "<Axes: title={'center': ' Player Price (Millions) vs Age'}, xlabel='age', ylabel='price'>"
      ]
     },
     "execution_count": 260,
     "metadata": {},
     "output_type": "execute_result"
    },
    {
     "data": {
      "image/png": "[encoded data removed]",
      "text/plain": [
       "<Figure size 640x480 with 1 Axes>"
      ]
     },
     "metadata": {},
     "output_type": "display_data"
    }
   ],
   "source": [
    "plt.title(\" Player Price (Millions) vs Age\")\n",
    "sns.barplot(df, x=\"age\", y=\"price\", hue='age', legend=False)"
   ]
  },
  {
   "cell_type": "markdown",
   "metadata": {},
   "source": [
    "### How does position affect price?"
   ]
  },
  {
   "cell_type": "code",
   "execution_count": 274,
   "metadata": {},
   "outputs": [
    {
     "data": {
      "text/plain": [
       "<Axes: xlabel='position', ylabel='Count'>"
      ]
     },
     "execution_count": 274,
     "metadata": {},
     "output_type": "execute_result"
    },
    {
     "data": {
      "image/png": "[encoded data removed]",
      "text/plain": [
       "<Figure size 800x500 with 1 Axes>"
      ]
     },
     "metadata": {},
     "output_type": "display_data"
    }
   ],
   "source": [
    "plt.figure(figsize=(8, 5))\n",
    "sns.histplot(data=df, x=\"position\", hue='position', legend=False)"
   ]
  },
  {
   "cell_type": "code",
   "execution_count": 271,
   "metadata": {},
   "outputs": [
    {
     "data": {
      "text/plain": [
       "<Axes: title={'center': ' Player Price (Millions) vs Position'}, xlabel='position', ylabel='price'>"
      ]
     },
     "execution_count": 271,
     "metadata": {},
     "output_type": "execute_result"
    },
    {
     "data": {
      "image/png": "[encoded data removed]",
      "text/plain": [
       "<Figure size 640x480 with 1 Axes>"
      ]
     },
     "metadata": {},
     "output_type": "display_data"
    }
   ],
   "source": [
    "plt.title(\" Player Price (Millions) vs Position\")\n",
    "sns.barplot(df, x=\"position\", y=\"price\", hue='position', legend=False)"
   ]
  }
 ],
 "metadata": {
  "kernelspec": {
   "display_name": "Python 3.9.6 ('.venv': venv)",
   "language": "python",
   "name": "python3"
  },
  "language_info": {
   "codemirror_mode": {
    "name": "ipython",
    "version": 3
   },
   "file_extension": ".py",
   "mimetype": "text/x-python",
   "name": "python",
   "nbconvert_exporter": "python",
   "pygments_lexer": "ipython3",
   "version": "3.9.6"
  },
  "orig_nbformat": 4,
  "vscode": {
   "interpreter": {
    "hash": "01b65765b51014c121218f62bf424cf4af8dc497961333934ff943f2cc13b15e"
   }
  }
 },
 "nbformat": 4,
 "nbformat_minor": 2
}
